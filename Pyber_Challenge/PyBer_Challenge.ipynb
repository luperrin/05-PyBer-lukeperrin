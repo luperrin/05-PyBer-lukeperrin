{
 "cells": [
  {
   "cell_type": "markdown",
   "metadata": {},
   "source": [
    "# Pyber Challenge"
   ]
  },
  {
   "cell_type": "markdown",
   "metadata": {},
   "source": [
    "### 4.3 Loading and Reading CSV files"
   ]
  },
  {
   "cell_type": "code",
   "execution_count": 1,
   "metadata": {},
   "outputs": [],
   "source": [
    "# Add Matplotlib inline magic command\n",
    "%matplotlib inline\n",
    "import pandas as pd\n",
    "\n",
    "# File to Load (Remember to change these)\n",
    "# city_data_to_load = \"Resources/city_data.csv\"\n",
    "city_data_to_load = '/Users/lukeperrin/Documents/UCB Data Bootcamp/module-repos/05-PyBer-lukeperrin/Pyber_Challenge/Resources/city_data.csv'\n",
    "# ride_data_to_load = \"Resources/ride_data.csv\"\n",
    "ride_data_to_load = '/Users/lukeperrin/Documents/UCB Data Bootcamp/module-repos/05-PyBer-lukeperrin/Pyber_Challenge/Resources/ride_data.csv'\n",
    "\n",
    "# Read the City and Ride Data\n",
    "city_data_df = pd.read_csv(city_data_to_load)\n",
    "ride_data_df = pd.read_csv(ride_data_to_load)"
   ]
  },
  {
   "cell_type": "markdown",
   "metadata": {},
   "source": [
    "### Merge the DataFrames"
   ]
  },
  {
   "cell_type": "code",
   "execution_count": 2,
   "metadata": {
    "scrolled": true
   },
   "outputs": [
    {
     "data": {
      "text/plain": "                    city                 date   fare        ride_id  \\\n0     Lake Jonathanshire  2019-01-14 10:14:22  13.83  5739410935873   \n1     South Michelleport  2019-03-04 18:24:09  30.24  2343912425577   \n2     Port Samanthamouth  2019-02-24 04:29:00  33.44  2005065760003   \n3             Rodneyfort  2019-02-10 23:22:03  23.44  5149245426178   \n4             South Jack  2019-03-06 04:28:35  34.58  3908451377344   \n...                  ...                  ...    ...            ...   \n2370         Michaelberg  2019-04-29 17:04:39  13.38  8550365057598   \n2371     Lake Latoyabury  2019-01-30 00:05:47  20.76  9018727594352   \n2372         North Jaime  2019-02-10 21:03:50  11.11  2781339863778   \n2373        West Heather  2019-05-07 19:22:15  44.94  4256853490277   \n2374          Newtonview  2019-04-25 10:20:13  55.84  9990581345298   \n\n      driver_count   type  \n0                5  Urban  \n1               72  Urban  \n2               57  Urban  \n3               34  Urban  \n4               46  Urban  \n...            ...    ...  \n2370             6  Rural  \n2371             2  Rural  \n2372             1  Rural  \n2373             4  Rural  \n2374             1  Rural  \n\n[2375 rows x 6 columns]",
      "text/html": "<div>\n<style scoped>\n    .dataframe tbody tr th:only-of-type {\n        vertical-align: middle;\n    }\n\n    .dataframe tbody tr th {\n        vertical-align: top;\n    }\n\n    .dataframe thead th {\n        text-align: right;\n    }\n</style>\n<table border=\"1\" class=\"dataframe\">\n  <thead>\n    <tr style=\"text-align: right;\">\n      <th></th>\n      <th>city</th>\n      <th>date</th>\n      <th>fare</th>\n      <th>ride_id</th>\n      <th>driver_count</th>\n      <th>type</th>\n    </tr>\n  </thead>\n  <tbody>\n    <tr>\n      <th>0</th>\n      <td>Lake Jonathanshire</td>\n      <td>2019-01-14 10:14:22</td>\n      <td>13.83</td>\n      <td>5739410935873</td>\n      <td>5</td>\n      <td>Urban</td>\n    </tr>\n    <tr>\n      <th>1</th>\n      <td>South Michelleport</td>\n      <td>2019-03-04 18:24:09</td>\n      <td>30.24</td>\n      <td>2343912425577</td>\n      <td>72</td>\n      <td>Urban</td>\n    </tr>\n    <tr>\n      <th>2</th>\n      <td>Port Samanthamouth</td>\n      <td>2019-02-24 04:29:00</td>\n      <td>33.44</td>\n      <td>2005065760003</td>\n      <td>57</td>\n      <td>Urban</td>\n    </tr>\n    <tr>\n      <th>3</th>\n      <td>Rodneyfort</td>\n      <td>2019-02-10 23:22:03</td>\n      <td>23.44</td>\n      <td>5149245426178</td>\n      <td>34</td>\n      <td>Urban</td>\n    </tr>\n    <tr>\n      <th>4</th>\n      <td>South Jack</td>\n      <td>2019-03-06 04:28:35</td>\n      <td>34.58</td>\n      <td>3908451377344</td>\n      <td>46</td>\n      <td>Urban</td>\n    </tr>\n    <tr>\n      <th>...</th>\n      <td>...</td>\n      <td>...</td>\n      <td>...</td>\n      <td>...</td>\n      <td>...</td>\n      <td>...</td>\n    </tr>\n    <tr>\n      <th>2370</th>\n      <td>Michaelberg</td>\n      <td>2019-04-29 17:04:39</td>\n      <td>13.38</td>\n      <td>8550365057598</td>\n      <td>6</td>\n      <td>Rural</td>\n    </tr>\n    <tr>\n      <th>2371</th>\n      <td>Lake Latoyabury</td>\n      <td>2019-01-30 00:05:47</td>\n      <td>20.76</td>\n      <td>9018727594352</td>\n      <td>2</td>\n      <td>Rural</td>\n    </tr>\n    <tr>\n      <th>2372</th>\n      <td>North Jaime</td>\n      <td>2019-02-10 21:03:50</td>\n      <td>11.11</td>\n      <td>2781339863778</td>\n      <td>1</td>\n      <td>Rural</td>\n    </tr>\n    <tr>\n      <th>2373</th>\n      <td>West Heather</td>\n      <td>2019-05-07 19:22:15</td>\n      <td>44.94</td>\n      <td>4256853490277</td>\n      <td>4</td>\n      <td>Rural</td>\n    </tr>\n    <tr>\n      <th>2374</th>\n      <td>Newtonview</td>\n      <td>2019-04-25 10:20:13</td>\n      <td>55.84</td>\n      <td>9990581345298</td>\n      <td>1</td>\n      <td>Rural</td>\n    </tr>\n  </tbody>\n</table>\n<p>2375 rows × 6 columns</p>\n</div>"
     },
     "execution_count": 2,
     "metadata": {},
     "output_type": "execute_result"
    }
   ],
   "source": [
    "# Combine the data into a single dataset\n",
    "pyber_data_df = pd.merge(ride_data_df, city_data_df, how=\"left\", on=[\"city\", \"city\"])\n",
    "\n",
    "# Display the data table for preview\n",
    "pyber_data_df"
   ]
  },
  {
   "cell_type": "markdown",
   "metadata": {},
   "source": [
    "## Challenge Deliverable 1. Generate a Ride-Sharing DataFrame by City Type"
   ]
  },
  {
   "cell_type": "code",
   "execution_count": 3,
   "metadata": {},
   "outputs": [
    {
     "data": {
      "text/plain": "type\nRural        125\nSuburban     625\nUrban       1625\nName: ride_id, dtype: int64"
     },
     "execution_count": 3,
     "metadata": {},
     "output_type": "execute_result"
    }
   ],
   "source": [
    "#  1. Get the total rides for each city type\n",
    "totalRides_byCityType = pyber_data_df.groupby([\"type\"]).count()[\"ride_id\"]\n",
    "totalRides_byCityType"
   ]
  },
  {
   "cell_type": "code",
   "execution_count": 4,
   "metadata": {},
   "outputs": [
    {
     "data": {
      "text/plain": "type\nRural         78\nSuburban     490\nUrban       2405\nName: driver_count, dtype: int64"
     },
     "execution_count": 4,
     "metadata": {},
     "output_type": "execute_result"
    }
   ],
   "source": [
    "# 2. Get the total drivers for each city type\n",
    "totalDrivers_byCityType = city_data_df.groupby([\"type\"]).sum()[\"driver_count\"]\n",
    "totalDrivers_byCityType"
   ]
  },
  {
   "cell_type": "code",
   "execution_count": 5,
   "metadata": {},
   "outputs": [
    {
     "data": {
      "text/plain": "type\nRural        4327.93\nSuburban    19356.33\nUrban       39854.38\nName: fare, dtype: float64"
     },
     "execution_count": 5,
     "metadata": {},
     "output_type": "execute_result"
    }
   ],
   "source": [
    "#  3. Get the total amount of fares for each city type\n",
    "totalFares_byCityType = pyber_data_df.groupby([\"type\"]).sum()[\"fare\"]\n",
    "totalFares_byCityType"
   ]
  },
  {
   "cell_type": "code",
   "execution_count": 6,
   "metadata": {},
   "outputs": [
    {
     "data": {
      "text/plain": "type\nRural       34.62\nSuburban    30.97\nUrban       24.53\ndtype: float64"
     },
     "execution_count": 6,
     "metadata": {},
     "output_type": "execute_result"
    }
   ],
   "source": [
    "#  4. Get the average fare per ride for each city type. \n",
    "avgFaresPerRide_byCityType = round(totalFares_byCityType / totalRides_byCityType, 2)\n",
    "avgFaresPerRide_byCityType"
   ]
  },
  {
   "cell_type": "code",
   "execution_count": 7,
   "metadata": {},
   "outputs": [
    {
     "data": {
      "text/plain": "type\nRural       55.49\nSuburban    39.50\nUrban       16.57\ndtype: float64"
     },
     "execution_count": 7,
     "metadata": {},
     "output_type": "execute_result"
    }
   ],
   "source": [
    "# 5. Get the average fare per driver for each city type.\n",
    "avgFaresPerDriver_byCityType = round(totalFares_byCityType / totalDrivers_byCityType, 2)\n",
    "avgFaresPerDriver_byCityType"
   ]
  },
  {
   "cell_type": "code",
   "execution_count": 8,
   "metadata": {},
   "outputs": [
    {
     "data": {
      "text/plain": "          Total Rides  Total Drivers  Total Fares  Average Fare per Ride  \\\ntype                                                                       \nRural             125             78      4327.93                  34.62   \nSuburban          625            490     19356.33                  30.97   \nUrban            1625           2405     39854.38                  24.53   \n\n          Average Fare per Driver  \ntype                               \nRural                       55.49  \nSuburban                    39.50  \nUrban                       16.57  ",
      "text/html": "<div>\n<style scoped>\n    .dataframe tbody tr th:only-of-type {\n        vertical-align: middle;\n    }\n\n    .dataframe tbody tr th {\n        vertical-align: top;\n    }\n\n    .dataframe thead th {\n        text-align: right;\n    }\n</style>\n<table border=\"1\" class=\"dataframe\">\n  <thead>\n    <tr style=\"text-align: right;\">\n      <th></th>\n      <th>Total Rides</th>\n      <th>Total Drivers</th>\n      <th>Total Fares</th>\n      <th>Average Fare per Ride</th>\n      <th>Average Fare per Driver</th>\n    </tr>\n    <tr>\n      <th>type</th>\n      <th></th>\n      <th></th>\n      <th></th>\n      <th></th>\n      <th></th>\n    </tr>\n  </thead>\n  <tbody>\n    <tr>\n      <th>Rural</th>\n      <td>125</td>\n      <td>78</td>\n      <td>4327.93</td>\n      <td>34.62</td>\n      <td>55.49</td>\n    </tr>\n    <tr>\n      <th>Suburban</th>\n      <td>625</td>\n      <td>490</td>\n      <td>19356.33</td>\n      <td>30.97</td>\n      <td>39.50</td>\n    </tr>\n    <tr>\n      <th>Urban</th>\n      <td>1625</td>\n      <td>2405</td>\n      <td>39854.38</td>\n      <td>24.53</td>\n      <td>16.57</td>\n    </tr>\n  </tbody>\n</table>\n</div>"
     },
     "execution_count": 8,
     "metadata": {},
     "output_type": "execute_result"
    }
   ],
   "source": [
    "#  6. Create a PyBer summary DataFrame.\n",
    "pyber_summary_df = pd.DataFrame({\n",
    "    \"Total Rides\" : totalRides_byCityType,\n",
    "    \"Total Drivers\" : totalDrivers_byCityType,\n",
    "    \"Total Fares\" : totalFares_byCityType,\n",
    "    \"Average Fare per Ride\" : avgFaresPerRide_byCityType,\n",
    "    \"Average Fare per Driver\" : avgFaresPerDriver_byCityType\n",
    "})\n",
    "pyber_summary_df"
   ]
  },
  {
   "cell_type": "code",
   "execution_count": 9,
   "metadata": {},
   "outputs": [
    {
     "data": {
      "text/plain": "          Total Rides  Total Drivers  Total Fares  Average Fare per Ride  \\\nRural             125             78      4327.93                  34.62   \nSuburban          625            490     19356.33                  30.97   \nUrban            1625           2405     39854.38                  24.53   \n\n          Average Fare per Driver  \nRural                       55.49  \nSuburban                    39.50  \nUrban                       16.57  ",
      "text/html": "<div>\n<style scoped>\n    .dataframe tbody tr th:only-of-type {\n        vertical-align: middle;\n    }\n\n    .dataframe tbody tr th {\n        vertical-align: top;\n    }\n\n    .dataframe thead th {\n        text-align: right;\n    }\n</style>\n<table border=\"1\" class=\"dataframe\">\n  <thead>\n    <tr style=\"text-align: right;\">\n      <th></th>\n      <th>Total Rides</th>\n      <th>Total Drivers</th>\n      <th>Total Fares</th>\n      <th>Average Fare per Ride</th>\n      <th>Average Fare per Driver</th>\n    </tr>\n  </thead>\n  <tbody>\n    <tr>\n      <th>Rural</th>\n      <td>125</td>\n      <td>78</td>\n      <td>4327.93</td>\n      <td>34.62</td>\n      <td>55.49</td>\n    </tr>\n    <tr>\n      <th>Suburban</th>\n      <td>625</td>\n      <td>490</td>\n      <td>19356.33</td>\n      <td>30.97</td>\n      <td>39.50</td>\n    </tr>\n    <tr>\n      <th>Urban</th>\n      <td>1625</td>\n      <td>2405</td>\n      <td>39854.38</td>\n      <td>24.53</td>\n      <td>16.57</td>\n    </tr>\n  </tbody>\n</table>\n</div>"
     },
     "execution_count": 9,
     "metadata": {},
     "output_type": "execute_result"
    }
   ],
   "source": [
    "#  7. Cleaning up the DataFrame. Delete the index name\n",
    "pyber_summary_df.index.name = None\n",
    "pyber_summary_df"
   ]
  },
  {
   "cell_type": "code",
   "execution_count": 10,
   "metadata": {},
   "outputs": [
    {
     "data": {
      "text/plain": "         Total Rides Total Drivers Total Fares Average Fare per Ride  \\\nRural            125            78   $4,327.93                $34.62   \nSuburban         625           490  $19,356.33                $30.97   \nUrban          1,625         2,405  $39,854.38                $24.53   \n\n         Average Fare per Driver  \nRural                     $55.49  \nSuburban                  $39.50  \nUrban                     $16.57  ",
      "text/html": "<div>\n<style scoped>\n    .dataframe tbody tr th:only-of-type {\n        vertical-align: middle;\n    }\n\n    .dataframe tbody tr th {\n        vertical-align: top;\n    }\n\n    .dataframe thead th {\n        text-align: right;\n    }\n</style>\n<table border=\"1\" class=\"dataframe\">\n  <thead>\n    <tr style=\"text-align: right;\">\n      <th></th>\n      <th>Total Rides</th>\n      <th>Total Drivers</th>\n      <th>Total Fares</th>\n      <th>Average Fare per Ride</th>\n      <th>Average Fare per Driver</th>\n    </tr>\n  </thead>\n  <tbody>\n    <tr>\n      <th>Rural</th>\n      <td>125</td>\n      <td>78</td>\n      <td>$4,327.93</td>\n      <td>$34.62</td>\n      <td>$55.49</td>\n    </tr>\n    <tr>\n      <th>Suburban</th>\n      <td>625</td>\n      <td>490</td>\n      <td>$19,356.33</td>\n      <td>$30.97</td>\n      <td>$39.50</td>\n    </tr>\n    <tr>\n      <th>Urban</th>\n      <td>1,625</td>\n      <td>2,405</td>\n      <td>$39,854.38</td>\n      <td>$24.53</td>\n      <td>$16.57</td>\n    </tr>\n  </tbody>\n</table>\n</div>"
     },
     "execution_count": 10,
     "metadata": {},
     "output_type": "execute_result"
    }
   ],
   "source": [
    "#  8. Format the columns.\n",
    "pyber_summary_df[\"Total Rides\"] = pyber_summary_df[\"Total Rides\"].map(\"{:,}\".format)\n",
    "pyber_summary_df[\"Total Drivers\"] = pyber_summary_df[\"Total Drivers\"].map(\"{:,}\".format)\n",
    "pyber_summary_df[\"Total Fares\"] = pyber_summary_df[\"Total Fares\"].map(\"${:,.2f}\".format)\n",
    "pyber_summary_df[\"Average Fare per Ride\"] = pyber_summary_df[\"Average Fare per Ride\"].map(\"${:,.2f}\".format)\n",
    "pyber_summary_df[\"Average Fare per Driver\"] = pyber_summary_df[\"Average Fare per Driver\"].map(\"${:,.2f}\".format)\n",
    "pyber_summary_df"
   ]
  },
  {
   "cell_type": "markdown",
   "source": [
    "Optional export `pyber_summary_df` as image"
   ],
   "metadata": {
    "collapsed": false,
    "pycharm": {
     "name": "#%% md\n"
    }
   }
  },
  {
   "cell_type": "code",
   "execution_count": 11,
   "outputs": [],
   "source": [
    "# # Export pyber_summary_df to PNG image\n",
    "# import dataframe_image as dfi\n",
    "# import PIL\n",
    "# from PIL import Image\n",
    "#\n",
    "# dfi.export(pyber_summary_df, 'pyber_summary_df.png')\n",
    "#\n",
    "# # creating a image object (main image)\n",
    "# pyber_summary_df_IMG = Image.open(r\"pyber_summary_df.png\")\n",
    "#\n",
    "# # save a image using extension\n",
    "# pyber_summary_df_IMG = pyber_summary_df_IMG.save(\"pyber_summary_df.png\")\n",
    "# pyber_summary_df_IMG.show()"
   ],
   "metadata": {
    "collapsed": false,
    "pycharm": {
     "name": "#%%\n"
    }
   }
  },
  {
   "cell_type": "markdown",
   "metadata": {},
   "source": [
    "## Deliverable 2.  Create a multiple line plot that shows the total weekly of the fares for each type of city."
   ]
  },
  {
   "cell_type": "code",
   "execution_count": 12,
   "metadata": {},
   "outputs": [
    {
     "data": {
      "text/plain": "                    city                 date   fare        ride_id  \\\n0     Lake Jonathanshire  2019-01-14 10:14:22  13.83  5739410935873   \n1     South Michelleport  2019-03-04 18:24:09  30.24  2343912425577   \n2     Port Samanthamouth  2019-02-24 04:29:00  33.44  2005065760003   \n3             Rodneyfort  2019-02-10 23:22:03  23.44  5149245426178   \n4             South Jack  2019-03-06 04:28:35  34.58  3908451377344   \n...                  ...                  ...    ...            ...   \n2370         Michaelberg  2019-04-29 17:04:39  13.38  8550365057598   \n2371     Lake Latoyabury  2019-01-30 00:05:47  20.76  9018727594352   \n2372         North Jaime  2019-02-10 21:03:50  11.11  2781339863778   \n2373        West Heather  2019-05-07 19:22:15  44.94  4256853490277   \n2374          Newtonview  2019-04-25 10:20:13  55.84  9990581345298   \n\n      driver_count   type  \n0                5  Urban  \n1               72  Urban  \n2               57  Urban  \n3               34  Urban  \n4               46  Urban  \n...            ...    ...  \n2370             6  Rural  \n2371             2  Rural  \n2372             1  Rural  \n2373             4  Rural  \n2374             1  Rural  \n\n[2375 rows x 6 columns]",
      "text/html": "<div>\n<style scoped>\n    .dataframe tbody tr th:only-of-type {\n        vertical-align: middle;\n    }\n\n    .dataframe tbody tr th {\n        vertical-align: top;\n    }\n\n    .dataframe thead th {\n        text-align: right;\n    }\n</style>\n<table border=\"1\" class=\"dataframe\">\n  <thead>\n    <tr style=\"text-align: right;\">\n      <th></th>\n      <th>city</th>\n      <th>date</th>\n      <th>fare</th>\n      <th>ride_id</th>\n      <th>driver_count</th>\n      <th>type</th>\n    </tr>\n  </thead>\n  <tbody>\n    <tr>\n      <th>0</th>\n      <td>Lake Jonathanshire</td>\n      <td>2019-01-14 10:14:22</td>\n      <td>13.83</td>\n      <td>5739410935873</td>\n      <td>5</td>\n      <td>Urban</td>\n    </tr>\n    <tr>\n      <th>1</th>\n      <td>South Michelleport</td>\n      <td>2019-03-04 18:24:09</td>\n      <td>30.24</td>\n      <td>2343912425577</td>\n      <td>72</td>\n      <td>Urban</td>\n    </tr>\n    <tr>\n      <th>2</th>\n      <td>Port Samanthamouth</td>\n      <td>2019-02-24 04:29:00</td>\n      <td>33.44</td>\n      <td>2005065760003</td>\n      <td>57</td>\n      <td>Urban</td>\n    </tr>\n    <tr>\n      <th>3</th>\n      <td>Rodneyfort</td>\n      <td>2019-02-10 23:22:03</td>\n      <td>23.44</td>\n      <td>5149245426178</td>\n      <td>34</td>\n      <td>Urban</td>\n    </tr>\n    <tr>\n      <th>4</th>\n      <td>South Jack</td>\n      <td>2019-03-06 04:28:35</td>\n      <td>34.58</td>\n      <td>3908451377344</td>\n      <td>46</td>\n      <td>Urban</td>\n    </tr>\n    <tr>\n      <th>...</th>\n      <td>...</td>\n      <td>...</td>\n      <td>...</td>\n      <td>...</td>\n      <td>...</td>\n      <td>...</td>\n    </tr>\n    <tr>\n      <th>2370</th>\n      <td>Michaelberg</td>\n      <td>2019-04-29 17:04:39</td>\n      <td>13.38</td>\n      <td>8550365057598</td>\n      <td>6</td>\n      <td>Rural</td>\n    </tr>\n    <tr>\n      <th>2371</th>\n      <td>Lake Latoyabury</td>\n      <td>2019-01-30 00:05:47</td>\n      <td>20.76</td>\n      <td>9018727594352</td>\n      <td>2</td>\n      <td>Rural</td>\n    </tr>\n    <tr>\n      <th>2372</th>\n      <td>North Jaime</td>\n      <td>2019-02-10 21:03:50</td>\n      <td>11.11</td>\n      <td>2781339863778</td>\n      <td>1</td>\n      <td>Rural</td>\n    </tr>\n    <tr>\n      <th>2373</th>\n      <td>West Heather</td>\n      <td>2019-05-07 19:22:15</td>\n      <td>44.94</td>\n      <td>4256853490277</td>\n      <td>4</td>\n      <td>Rural</td>\n    </tr>\n    <tr>\n      <th>2374</th>\n      <td>Newtonview</td>\n      <td>2019-04-25 10:20:13</td>\n      <td>55.84</td>\n      <td>9990581345298</td>\n      <td>1</td>\n      <td>Rural</td>\n    </tr>\n  </tbody>\n</table>\n<p>2375 rows × 6 columns</p>\n</div>"
     },
     "execution_count": 12,
     "metadata": {},
     "output_type": "execute_result"
    }
   ],
   "source": [
    "# Print the merged DataFrame for reference.\n",
    "pyber_data_df"
   ]
  },
  {
   "cell_type": "markdown",
   "source": [
    "### 1. Using groupby() to create a new DataFrame showing the sum of the fares for each date where the indices are the city type and date."
   ],
   "metadata": {
    "collapsed": false
   }
  },
  {
   "cell_type": "code",
   "execution_count": 13,
   "metadata": {},
   "outputs": [
    {
     "data": {
      "text/plain": "type   date               \nRural  2019-01-01 09:45:36    43.69\n       2019-01-02 11:18:32    52.12\n       2019-01-03 19:51:01    19.90\n       2019-01-04 03:31:26    24.88\n       2019-01-06 07:38:40    47.33\n                              ...  \nUrban  2019-05-08 04:20:00    21.99\n       2019-05-08 04:39:49    18.45\n       2019-05-08 07:29:01    18.55\n       2019-05-08 11:38:35    19.77\n       2019-05-08 13:10:18    18.04\nName: fare, Length: 2375, dtype: float64"
     },
     "execution_count": 13,
     "metadata": {},
     "output_type": "execute_result"
    }
   ],
   "source": [
    "sumFare_byDate_byType = pyber_data_df.groupby(['type', 'date']).sum()['fare']\n",
    "sumFare_byDate_byType"
   ]
  },
  {
   "cell_type": "markdown",
   "source": [
    "### 2. Reset the index on the DataFrame you created in #1. This is needed to use the 'pivot()' function."
   ],
   "metadata": {
    "collapsed": false
   }
  },
  {
   "cell_type": "code",
   "execution_count": 14,
   "metadata": {},
   "outputs": [],
   "source": [
    "sumFare_byDate_byType = sumFare_byDate_byType.reset_index()"
   ]
  },
  {
   "cell_type": "markdown",
   "source": [
    "### 3. Create a pivot table with the 'date' as the index, the columns ='type', and values='fare' to get the total fares for each type of city by the date."
   ],
   "metadata": {
    "collapsed": false
   }
  },
  {
   "cell_type": "code",
   "execution_count": 15,
   "metadata": {},
   "outputs": [
    {
     "data": {
      "text/plain": "type                 Rural  Suburban  Urban\ndate                                       \n2019-01-01 00:08:16    NaN       NaN  37.91\n2019-01-01 00:46:46    NaN     47.74    NaN\n2019-01-01 02:07:24    NaN     24.07    NaN\n2019-01-01 03:46:50    NaN       NaN   7.57\n2019-01-01 05:23:21    NaN       NaN  10.75\n...                    ...       ...    ...\n2019-05-08 04:20:00    NaN       NaN  21.99\n2019-05-08 04:39:49    NaN       NaN  18.45\n2019-05-08 07:29:01    NaN       NaN  18.55\n2019-05-08 11:38:35    NaN       NaN  19.77\n2019-05-08 13:10:18    NaN       NaN  18.04\n\n[2375 rows x 3 columns]",
      "text/html": "<div>\n<style scoped>\n    .dataframe tbody tr th:only-of-type {\n        vertical-align: middle;\n    }\n\n    .dataframe tbody tr th {\n        vertical-align: top;\n    }\n\n    .dataframe thead th {\n        text-align: right;\n    }\n</style>\n<table border=\"1\" class=\"dataframe\">\n  <thead>\n    <tr style=\"text-align: right;\">\n      <th>type</th>\n      <th>Rural</th>\n      <th>Suburban</th>\n      <th>Urban</th>\n    </tr>\n    <tr>\n      <th>date</th>\n      <th></th>\n      <th></th>\n      <th></th>\n    </tr>\n  </thead>\n  <tbody>\n    <tr>\n      <th>2019-01-01 00:08:16</th>\n      <td>NaN</td>\n      <td>NaN</td>\n      <td>37.91</td>\n    </tr>\n    <tr>\n      <th>2019-01-01 00:46:46</th>\n      <td>NaN</td>\n      <td>47.74</td>\n      <td>NaN</td>\n    </tr>\n    <tr>\n      <th>2019-01-01 02:07:24</th>\n      <td>NaN</td>\n      <td>24.07</td>\n      <td>NaN</td>\n    </tr>\n    <tr>\n      <th>2019-01-01 03:46:50</th>\n      <td>NaN</td>\n      <td>NaN</td>\n      <td>7.57</td>\n    </tr>\n    <tr>\n      <th>2019-01-01 05:23:21</th>\n      <td>NaN</td>\n      <td>NaN</td>\n      <td>10.75</td>\n    </tr>\n    <tr>\n      <th>...</th>\n      <td>...</td>\n      <td>...</td>\n      <td>...</td>\n    </tr>\n    <tr>\n      <th>2019-05-08 04:20:00</th>\n      <td>NaN</td>\n      <td>NaN</td>\n      <td>21.99</td>\n    </tr>\n    <tr>\n      <th>2019-05-08 04:39:49</th>\n      <td>NaN</td>\n      <td>NaN</td>\n      <td>18.45</td>\n    </tr>\n    <tr>\n      <th>2019-05-08 07:29:01</th>\n      <td>NaN</td>\n      <td>NaN</td>\n      <td>18.55</td>\n    </tr>\n    <tr>\n      <th>2019-05-08 11:38:35</th>\n      <td>NaN</td>\n      <td>NaN</td>\n      <td>19.77</td>\n    </tr>\n    <tr>\n      <th>2019-05-08 13:10:18</th>\n      <td>NaN</td>\n      <td>NaN</td>\n      <td>18.04</td>\n    </tr>\n  </tbody>\n</table>\n<p>2375 rows × 3 columns</p>\n</div>"
     },
     "execution_count": 15,
     "metadata": {},
     "output_type": "execute_result"
    }
   ],
   "source": [
    "sumFare_byDate_byType_pivot = sumFare_byDate_byType.pivot(index='date', columns='type', values='fare')\n",
    "sumFare_byDate_byType_pivot"
   ]
  },
  {
   "cell_type": "markdown",
   "source": [
    "### 4. Create a new DataFrame from the pivot table DataFrame using loc on the given dates, '2019-01-01':'2019-04-29'."
   ],
   "metadata": {
    "collapsed": false
   }
  },
  {
   "cell_type": "code",
   "execution_count": 16,
   "metadata": {},
   "outputs": [
    {
     "data": {
      "text/plain": "type                 Rural  Suburban  Urban\ndate                                       \n2019-01-01 00:08:16    NaN       NaN  37.91\n2019-01-01 00:46:46    NaN     47.74    NaN\n2019-01-01 02:07:24    NaN     24.07    NaN\n2019-01-01 03:46:50    NaN       NaN   7.57\n2019-01-01 05:23:21    NaN       NaN  10.75\n...                    ...       ...    ...\n2019-04-28 14:28:36    NaN       NaN  11.46\n2019-04-28 16:29:16    NaN       NaN  36.42\n2019-04-28 17:26:52    NaN       NaN  31.43\n2019-04-28 17:38:09    NaN     34.87    NaN\n2019-04-28 19:35:03    NaN     16.96    NaN\n\n[2196 rows x 3 columns]",
      "text/html": "<div>\n<style scoped>\n    .dataframe tbody tr th:only-of-type {\n        vertical-align: middle;\n    }\n\n    .dataframe tbody tr th {\n        vertical-align: top;\n    }\n\n    .dataframe thead th {\n        text-align: right;\n    }\n</style>\n<table border=\"1\" class=\"dataframe\">\n  <thead>\n    <tr style=\"text-align: right;\">\n      <th>type</th>\n      <th>Rural</th>\n      <th>Suburban</th>\n      <th>Urban</th>\n    </tr>\n    <tr>\n      <th>date</th>\n      <th></th>\n      <th></th>\n      <th></th>\n    </tr>\n  </thead>\n  <tbody>\n    <tr>\n      <th>2019-01-01 00:08:16</th>\n      <td>NaN</td>\n      <td>NaN</td>\n      <td>37.91</td>\n    </tr>\n    <tr>\n      <th>2019-01-01 00:46:46</th>\n      <td>NaN</td>\n      <td>47.74</td>\n      <td>NaN</td>\n    </tr>\n    <tr>\n      <th>2019-01-01 02:07:24</th>\n      <td>NaN</td>\n      <td>24.07</td>\n      <td>NaN</td>\n    </tr>\n    <tr>\n      <th>2019-01-01 03:46:50</th>\n      <td>NaN</td>\n      <td>NaN</td>\n      <td>7.57</td>\n    </tr>\n    <tr>\n      <th>2019-01-01 05:23:21</th>\n      <td>NaN</td>\n      <td>NaN</td>\n      <td>10.75</td>\n    </tr>\n    <tr>\n      <th>...</th>\n      <td>...</td>\n      <td>...</td>\n      <td>...</td>\n    </tr>\n    <tr>\n      <th>2019-04-28 14:28:36</th>\n      <td>NaN</td>\n      <td>NaN</td>\n      <td>11.46</td>\n    </tr>\n    <tr>\n      <th>2019-04-28 16:29:16</th>\n      <td>NaN</td>\n      <td>NaN</td>\n      <td>36.42</td>\n    </tr>\n    <tr>\n      <th>2019-04-28 17:26:52</th>\n      <td>NaN</td>\n      <td>NaN</td>\n      <td>31.43</td>\n    </tr>\n    <tr>\n      <th>2019-04-28 17:38:09</th>\n      <td>NaN</td>\n      <td>34.87</td>\n      <td>NaN</td>\n    </tr>\n    <tr>\n      <th>2019-04-28 19:35:03</th>\n      <td>NaN</td>\n      <td>16.96</td>\n      <td>NaN</td>\n    </tr>\n  </tbody>\n</table>\n<p>2196 rows × 3 columns</p>\n</div>"
     },
     "execution_count": 16,
     "metadata": {},
     "output_type": "execute_result"
    }
   ],
   "source": [
    "deliv2_step4_df = sumFare_byDate_byType_pivot.loc['2019-01-01':'2019-04-29']\n",
    "deliv2_step4_df"
   ]
  },
  {
   "cell_type": "markdown",
   "source": [
    "### 5. Set the \"date\" index to datetime datatype. This is necessary to use the resample() method in Step 8."
   ],
   "metadata": {
    "collapsed": false
   }
  },
  {
   "cell_type": "code",
   "execution_count": 17,
   "metadata": {},
   "outputs": [],
   "source": [
    "deliv2_step4_df.index = pd.to_datetime(deliv2_step4_df.index)"
   ]
  },
  {
   "cell_type": "markdown",
   "source": [
    "### 6. Check that the datatype for the index is datetime using df.info()"
   ],
   "metadata": {
    "collapsed": false
   }
  },
  {
   "cell_type": "code",
   "execution_count": 18,
   "metadata": {},
   "outputs": [
    {
     "name": "stdout",
     "output_type": "stream",
     "text": [
      "<class 'pandas.core.frame.DataFrame'>\n",
      "DatetimeIndex: 2196 entries, 2019-01-01 00:08:16 to 2019-04-28 19:35:03\n",
      "Data columns (total 3 columns):\n",
      " #   Column    Non-Null Count  Dtype  \n",
      "---  ------    --------------  -----  \n",
      " 0   Rural     114 non-null    float64\n",
      " 1   Suburban  573 non-null    float64\n",
      " 2   Urban     1509 non-null   float64\n",
      "dtypes: float64(3)\n",
      "memory usage: 68.6 KB\n"
     ]
    }
   ],
   "source": [
    "deliv2_step4_df.info()"
   ]
  },
  {
   "cell_type": "markdown",
   "source": [
    "### 7. Create a new DataFrame using the \"resample()\" function by week 'W' and get the sum of the fares for each week."
   ],
   "metadata": {
    "collapsed": false
   }
  },
  {
   "cell_type": "code",
   "execution_count": 19,
   "metadata": {},
   "outputs": [
    {
     "data": {
      "text/plain": "type         Rural  Suburban    Urban\ndate                                 \n2019-01-06  187.92    721.60  1661.68\n2019-01-13   67.65   1105.13  2050.43\n2019-01-20  306.00   1218.20  1939.02\n2019-01-27  179.69   1203.28  2129.51\n2019-02-03  333.08   1042.79  2086.94\n2019-02-10  115.80    974.34  2162.64\n2019-02-17   95.82   1045.50  2235.07\n2019-02-24  419.06   1412.74  2466.29\n2019-03-03  175.14    858.46  2218.20\n2019-03-10  303.94    925.27  2470.93\n2019-03-17  163.39    906.20  2044.42\n2019-03-24  189.76   1122.20  2368.37\n2019-03-31  199.42   1045.06  1942.77\n2019-04-07  501.24   1010.73  2356.70\n2019-04-14  269.79    784.82  2390.72\n2019-04-21  214.14   1149.27  2303.80\n2019-04-28  191.85   1357.75  2238.29",
      "text/html": "<div>\n<style scoped>\n    .dataframe tbody tr th:only-of-type {\n        vertical-align: middle;\n    }\n\n    .dataframe tbody tr th {\n        vertical-align: top;\n    }\n\n    .dataframe thead th {\n        text-align: right;\n    }\n</style>\n<table border=\"1\" class=\"dataframe\">\n  <thead>\n    <tr style=\"text-align: right;\">\n      <th>type</th>\n      <th>Rural</th>\n      <th>Suburban</th>\n      <th>Urban</th>\n    </tr>\n    <tr>\n      <th>date</th>\n      <th></th>\n      <th></th>\n      <th></th>\n    </tr>\n  </thead>\n  <tbody>\n    <tr>\n      <th>2019-01-06</th>\n      <td>187.92</td>\n      <td>721.60</td>\n      <td>1661.68</td>\n    </tr>\n    <tr>\n      <th>2019-01-13</th>\n      <td>67.65</td>\n      <td>1105.13</td>\n      <td>2050.43</td>\n    </tr>\n    <tr>\n      <th>2019-01-20</th>\n      <td>306.00</td>\n      <td>1218.20</td>\n      <td>1939.02</td>\n    </tr>\n    <tr>\n      <th>2019-01-27</th>\n      <td>179.69</td>\n      <td>1203.28</td>\n      <td>2129.51</td>\n    </tr>\n    <tr>\n      <th>2019-02-03</th>\n      <td>333.08</td>\n      <td>1042.79</td>\n      <td>2086.94</td>\n    </tr>\n    <tr>\n      <th>2019-02-10</th>\n      <td>115.80</td>\n      <td>974.34</td>\n      <td>2162.64</td>\n    </tr>\n    <tr>\n      <th>2019-02-17</th>\n      <td>95.82</td>\n      <td>1045.50</td>\n      <td>2235.07</td>\n    </tr>\n    <tr>\n      <th>2019-02-24</th>\n      <td>419.06</td>\n      <td>1412.74</td>\n      <td>2466.29</td>\n    </tr>\n    <tr>\n      <th>2019-03-03</th>\n      <td>175.14</td>\n      <td>858.46</td>\n      <td>2218.20</td>\n    </tr>\n    <tr>\n      <th>2019-03-10</th>\n      <td>303.94</td>\n      <td>925.27</td>\n      <td>2470.93</td>\n    </tr>\n    <tr>\n      <th>2019-03-17</th>\n      <td>163.39</td>\n      <td>906.20</td>\n      <td>2044.42</td>\n    </tr>\n    <tr>\n      <th>2019-03-24</th>\n      <td>189.76</td>\n      <td>1122.20</td>\n      <td>2368.37</td>\n    </tr>\n    <tr>\n      <th>2019-03-31</th>\n      <td>199.42</td>\n      <td>1045.06</td>\n      <td>1942.77</td>\n    </tr>\n    <tr>\n      <th>2019-04-07</th>\n      <td>501.24</td>\n      <td>1010.73</td>\n      <td>2356.70</td>\n    </tr>\n    <tr>\n      <th>2019-04-14</th>\n      <td>269.79</td>\n      <td>784.82</td>\n      <td>2390.72</td>\n    </tr>\n    <tr>\n      <th>2019-04-21</th>\n      <td>214.14</td>\n      <td>1149.27</td>\n      <td>2303.80</td>\n    </tr>\n    <tr>\n      <th>2019-04-28</th>\n      <td>191.85</td>\n      <td>1357.75</td>\n      <td>2238.29</td>\n    </tr>\n  </tbody>\n</table>\n</div>"
     },
     "execution_count": 19,
     "metadata": {},
     "output_type": "execute_result"
    }
   ],
   "source": [
    "deliv2_step4_df_resampled = deliv2_step4_df.resample('W').sum()\n",
    "deliv2_step4_df_resampled"
   ]
  },
  {
   "cell_type": "markdown",
   "source": [],
   "metadata": {
    "collapsed": false
   }
  },
  {
   "cell_type": "code",
   "execution_count": 20,
   "outputs": [],
   "source": [
    "# import dataframe_image as dfi\n",
    "# import PIL\n",
    "# from PIL import Image\n",
    "#\n",
    "# dfi.export(deliv2_step4_df_resampled, 'sumRideFare_byWeek_byCityType.png')\n",
    "#\n",
    "# # creating a image object (main image)\n",
    "# deliv2_step4_df_resampled_IMG = Image.open(r\"sumRideFare_byWeek_byCityType.png\")\n",
    "#\n",
    "# # save a image using extension\n",
    "# deliv2_step4_df_resampled_IMG = deliv2_step4_df_resampled_IMG.save(\"sumRideFare_byWeek_byCityType.png\")"
   ],
   "metadata": {
    "collapsed": false,
    "pycharm": {
     "name": "#%%\n"
    }
   }
  },
  {
   "cell_type": "markdown",
   "source": [
    "### 8. Using the object-oriented interface method, plot the resample DataFrame using the df.plot() function."
   ],
   "metadata": {
    "collapsed": false
   }
  },
  {
   "cell_type": "code",
   "execution_count": 21,
   "outputs": [
    {
     "data": {
      "text/plain": "<Figure size 1008x432 with 1 Axes>",
      "image/png": "[encoded data removed]"
     },
     "metadata": {
      "needs_background": "light"
     },
     "output_type": "display_data"
    }
   ],
   "source": [
    "# Import the style from Matplotlib.\n",
    "%matplotlib inline\n",
    "import matplotlib.pyplot as plt\n",
    "from matplotlib import style\n",
    "\n",
    "# Define plot data sources and results destinations\n",
    "output_img = 'Analysis/PyBer_fare_summary.png' #Multiline chart image name & destination\n",
    "\n",
    "# Plot from DataFrame\n",
    "deliv2_step4_df_resampled.plot(title=\"Total Fare by City Type\", xlabel='Date', ylabel='Ride Fare ($ USD)', figsize=(14,6))\n",
    "\n",
    "# Use the graph style fivethirtyeight\n",
    "style.use('fivethirtyeight')\n",
    "\n",
    "### Set plot parameters\n",
    "plt.title('Total Fare by City Type')\n",
    "plt.legend(loc='best', title='City Type')\n",
    "plt.xlabel(\"Ride Date\")\n",
    "plt.ylabel(\"Fare ($ USD)\")\n",
    "\n",
    "# Save as PNG image\n",
    "plt.savefig(output_img)"
   ],
   "metadata": {
    "collapsed": false,
    "pycharm": {
     "name": "#%%\n"
    }
   }
  },
  {
   "cell_type": "markdown",
   "source": [],
   "metadata": {
    "collapsed": false
   }
  },
  {
   "cell_type": "code",
   "execution_count": 21,
   "outputs": [],
   "source": [],
   "metadata": {
    "collapsed": false,
    "pycharm": {
     "name": "#%%\n"
    }
   }
  }
 ],
 "metadata": {
  "anaconda-cloud": {},
  "kernelspec": {
   "display_name": "PythonData",
   "language": "python",
   "name": "pythondata"
  },
  "language_info": {
   "codemirror_mode": {
    "name": "ipython",
    "version": 3
   },
   "file_extension": ".py",
   "mimetype": "text/x-python",
   "name": "python",
   "nbconvert_exporter": "python",
   "pygments_lexer": "ipython3",
   "version": "3.9.7"
  }
 },
 "nbformat": 4,
 "nbformat_minor": 2
}